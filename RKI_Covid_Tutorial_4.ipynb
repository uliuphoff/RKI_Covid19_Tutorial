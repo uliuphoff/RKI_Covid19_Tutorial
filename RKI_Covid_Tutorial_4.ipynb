{
 "cells": [
  {
   "cell_type": "code",
   "execution_count": null,
   "metadata": {},
   "outputs": [],
   "source": [
    "# Wir importieren wieder unsere Pandas Standardbibliothek und natürlich auch geopandas, weil \n",
    "# wir ja wieder Kartendaten darstellen wollen und mit Geodatenframes arbeiten.\n",
    "\n",
    "import pandas as pd\n",
    "import geopandas as gpd"
   ]
  },
  {
   "cell_type": "code",
   "execution_count": null,
   "metadata": {},
   "outputs": [],
   "source": [
    "# Wir wollen jetzt aber noch einen Schritt weitergehen und die Karte ein wenig interaktiver machen.\n",
    "# Dazu importieren wir die Bibliothe folium. \n",
    "\n",
    "import folium\n",
    "\n",
    "# Die Bibliothe folium enthält nun ein sehr interessantes Feature mit dem wir uns genauer beschäftigen \n",
    "# wollen, das sog. Choropleth. Eine Choropleth-Karte kann verwendet werden, um bestimmte daten\n",
    "# auf der Karte durch Einfärbung zu visualisieren.\n",
    "\n",
    "# Das Ganze gibt es schon als fertige Bibliothek und wie fast alles zu finden unter\n",
    "# Guthub, nämlich unter https://github.com/python-visualization/folium\n",
    "\n",
    "# Damit lautet unser zusätzlicher import-Befehl\n",
    "\n",
    "from folium import Choropleth"
   ]
  },
  {
   "cell_type": "code",
   "execution_count": null,
   "metadata": {},
   "outputs": [],
   "source": [
    "# Was kann folium? Folium bietet uns eine interaktive Karte, die wir bewegen und zoomen können.\n",
    "# Das hat erstmal garnichts mit unseren Covid_Daten zu tun.\n",
    "# Definieren wir mal eine Karte mit der Sicht auf Deutschland. Dazu wählen wir \n",
    "# einen zentralen Punkt von Deutschland. Wikipedia liefert uns hier als \n",
    "# ungefähren Wert 51° Nord, 10° Ost, das reicht uns von der Genauigkeit.\n",
    "# Wir wählen noch die Zoomstufe 6 als Stawert (hab ich vorher ausprobiert) und los geht es.\n",
    "# Das Ergebnis des Funktionsaufrufs speichern wir dann in map1, die wir später noch brauchen werden:\n",
    "\n",
    "map1 = folium.Map(location=[51,10], tiles='openstreetmap', zoom_start=6)"
   ]
  },
  {
   "cell_type": "code",
   "execution_count": null,
   "metadata": {},
   "outputs": [],
   "source": [
    "map1\n",
    "\n",
    "# Das ist doch schon mal echt klasse.\n",
    "# Skalierbar, verschiebbar und perfekte Kartendaten.\n",
    "# Die Kartentden kann man sogar auswählen, indem man im Parameter die Datenquelle angibt.\n",
    "# Hier verwenden wir die Kartendaten von Openstreetmap Projekt.\n",
    "\n",
    "# Wichtig: Die Verwendung dieses Kartenmaterials geht ok, wenn man auf das Openstreetmap\n",
    "# Projekt hinweist, also „© OpenStreetMap-Mitwirkende“.\n",
    "# Diese Daten sind unter der Open-Database-Lizenz verfügbar. \n",
    "# Also bei jeder Nutzung entsprechendauf www.openstreetmap.org/copyright verlinken.\n",
    "# \n",
    "\n",
    "# Wir sehen unten auch noch einen weitern Hinweis auf eine Open Source bibliothe, die leaflet Bibliothek:\n",
    "# Auch hier immer auf den ursprung hinweisen, am besten mitdem Link aufs Original: \n",
    "# https://github.com/Leaflet/Leaflet\n",
    "\n"
   ]
  },
  {
   "cell_type": "code",
   "execution_count": null,
   "metadata": {},
   "outputs": [],
   "source": [
    "# So schön diese Karte auch ist, wir wollen ja einen Zusammenhang mit den RKI Covid daten herstellen.\n",
    "\n",
    "# In einem ersten Schritt laden wir wieder die Landkreisdaten vom RKI.\n",
    "# Wer die daten noch nicht runtergeladen hat, oder wer die tagesaktuellen Daten haben möchte geht zu ... \n",
    "# und sucht dort nach Landkreisen. Dann Download und dann das Shape File laden.\n",
    "# Genaeres dazu findet ihr im 3. Tutorial.\n",
    "\n",
    "# Aber zurück zu den daten. Das war ja ein Shapefile und wir laden das mit dem Befehel \n",
    "# Geopandas, also gpd.read_file.\n",
    "# Als ergebnis erhalten wir den Geodatenframe lk_full.\n",
    "\n",
    "lk_full=gpd.read_file('landkreise/RKI_Corona_Landkreise.shp')"
   ]
  },
  {
   "cell_type": "code",
   "execution_count": null,
   "metadata": {},
   "outputs": [],
   "source": [
    "# lk_full enthält nun wieder alle Informationen über Stadt-/Landkriese aber auch inklusive der geometrien.\n",
    "# Also einfach lk_full.head() aufrufen zum anschauen der ersten 5 Zeilen der Tabelle:\n",
    "\n",
    "lk_full.head(3)\n",
    "\n",
    "# Die Geodaten finden wir in der letzten Spalte."
   ]
  },
  {
   "cell_type": "code",
   "execution_count": null,
   "metadata": {},
   "outputs": [],
   "source": [
    "# Zur weiterverarbeitung basteln wir uns einen Geodatenframe, der nur die Geometrieinformationen \n",
    "# zum jeweileigen Stad- oder Landkreis enthält:\n",
    "  \n",
    "lkgeo=lk_full[['county', 'geometry']].set_index('county')\n",
    "lkgeo['county']=lkgeo.index\n"
   ]
  },
  {
   "cell_type": "code",
   "execution_count": null,
   "metadata": {},
   "outputs": [],
   "source": [
    "# Wir brauchen nun einen Datenframe, der die Inzidenzdaten enthält.\n",
    "\n",
    "inz_data=lk_full[['county', 'cases7_p_1']].set_index('county')\n",
    "inz_data['county']=inz_data.index\n"
   ]
  },
  {
   "cell_type": "code",
   "execution_count": null,
   "metadata": {},
   "outputs": [],
   "source": [
    "# Aus dem dritten Tutorial wissen wir, dass die Inidenzdaten so einach nicht verarbeitet werden können,\n",
    "# da sie Kommas statt Dezimalpunkte enthalten:\n",
    "\n",
    "inz_data['Inzidenz'] = inz_data['cases7_p_1'].str.replace(',','.').astype(float)"
   ]
  },
  {
   "cell_type": "code",
   "execution_count": null,
   "metadata": {},
   "outputs": [],
   "source": [
    "# Die Daten mit den Kommas brauchen wir nicht mehr und wir löschen sie einfach.\n",
    "# Das geht einfach mit dem drop Befehl.\n",
    "# Dem müssen wir aber mitgeben, dass wir eine Spalte meinen, also axis=1 und dass wir das \n",
    "# ganze permanent in dem Dataframe machen wollen. Also setzen wir wieder Inplace=True\n",
    "\n",
    "inz_data.drop('cases7_p_1', axis=1, inplace=True)"
   ]
  },
  {
   "cell_type": "code",
   "execution_count": null,
   "metadata": {},
   "outputs": [],
   "source": [
    "# jetzt kommen wir zum eigentlich spannenden Feature von Folium.\n",
    "# Dem dynamischen Overlay, dem sog. Chloropleth:\n",
    "# Aus der Doku unter https://python-visualization.github.io/folium/\n",
    "# findet man folgende Konstrution:\n",
    "\n",
    "cp=Choropleth(\n",
    "    geo_data=lkgeo.__geo_interface__,  # Link auf die Geo Daten (*)\n",
    "    name=\"Inzidenz\",                   # Name des Chloropleth, sehen wir später in der Karte\n",
    "    data=inz_data,                     # Link zu unserem inzidenz datenframe\n",
    "    columns=[\"county\", \"Inzidenz\"],    # Welche infos wollen wir anzeigen\n",
    "    bins=[0, 100, 250, 500, 750, 1000, 2000], # Farbabstufung der inzidenzen\n",
    "    key_on=\"feature.id\",               # Interner Link zwischen Geodaten und inzidenzdaten\n",
    "    fill_color='YlGnBu',               # Verwendete farbtabelle\n",
    "    legend_name='Inzidenz'             # Name der auf der Legende erscheint\n",
    ").add_to(map1)        # Am Ende sehen wir noch, dass das overlay mit unserer Karte Map1 verbunden werden soll\n",
    "\n",
    "\n",
    "# (*) Das ist jetzt komplex: Folium braucht als Geodaten eine Datenstruktur im json Format\n",
    "# Damit wir es aber nicht so schwer haben konveriert der Eintrag .__geo_interface__\n",
    "# unseren Geodatenfram intern in eine json Datenstruktur    "
   ]
  },
  {
   "cell_type": "code",
   "execution_count": null,
   "metadata": {},
   "outputs": [],
   "source": [
    "# So, wie sieht unsere karte nun aus? Rufen wir sie wieder auf:\n",
    "\n",
    "map1"
   ]
  },
  {
   "cell_type": "code",
   "execution_count": null,
   "metadata": {},
   "outputs": [],
   "source": [
    "# Für eine weitere Eigenschaft der Folium Biblothek müssen wir unsere Geo Informationen erweitern.\n",
    "# Das ist etwas komplexer, da folium prinzipiell eine json Datenstruktur als Geodaten erwartet.\n",
    "# Diese hat bestimmte Eigenschaften und die müssen nun um die inzidenz erweitert werden.\n",
    "# Das Thema json ist für dieses Tutorial aber zu umfangreich, deswegen wollen wir das hier nur kurz anschneiden.\n",
    "# Als neue Eigenschaft also \"Property\" im den json Geodaten wollen wir nun die Inzidenz einfügen.\n",
    "# Dazu laufen wir durch alle Einräge der json daten.\n",
    "\n",
    "\n",
    "for s in cp.geojson.data['features']:\n",
    "    s['properties']['Inzidenz'] = inz_data.loc[s['id'], 'Inzidenz']"
   ]
  },
  {
   "cell_type": "code",
   "execution_count": null,
   "metadata": {},
   "outputs": [],
   "source": [
    "# Jetzt fügen wir unserem Chloropleth einen Infobox einen sog. Tooltip hinzu,\n",
    "# in dem die Infos zu Landkreisnamen und Ìnzidenz stehen:\n",
    "\n",
    "folium.GeoJsonTooltip(['county', 'Inzidenz']).add_to(cp.geojson)"
   ]
  },
  {
   "cell_type": "code",
   "execution_count": null,
   "metadata": {},
   "outputs": [],
   "source": [
    "# Karte wieder aufrufen, kurz warten un hier ist nun jeder landkreis mit Tooltip versehen. \n",
    "# Das Ganze voll dynamisch.\n",
    "\n",
    "map1"
   ]
  },
  {
   "cell_type": "code",
   "execution_count": null,
   "metadata": {},
   "outputs": [],
   "source": [
    "# Last but not least fügen wir noch eine Schaltfläche hinzu um den Chloropleth an- und auszuschalten.\n",
    "# Das kennt man als layer z.B. aus anderen Karten.\n",
    "\n",
    "folium.LayerControl().add_to(m_1)"
   ]
  },
  {
   "cell_type": "code",
   "execution_count": null,
   "metadata": {},
   "outputs": [],
   "source": [
    "# Karte wieder aufrufen\n",
    "\n",
    "m_1"
   ]
  },
  {
   "cell_type": "code",
   "execution_count": null,
   "metadata": {},
   "outputs": [],
   "source": [
    "# das kann man natürlich auch alles in einen Schritt zusammenfassen, um schnell an die\n",
    "# gewünschte kartendarstellung zu kommen."
   ]
  }
 ],
 "metadata": {
  "kernelspec": {
   "display_name": "Python 3",
   "language": "python",
   "name": "python3"
  },
  "language_info": {
   "codemirror_mode": {
    "name": "ipython",
    "version": 3
   },
   "file_extension": ".py",
   "mimetype": "text/x-python",
   "name": "python",
   "nbconvert_exporter": "python",
   "pygments_lexer": "ipython3",
   "version": "3.9.1"
  }
 },
 "nbformat": 4,
 "nbformat_minor": 4
}
