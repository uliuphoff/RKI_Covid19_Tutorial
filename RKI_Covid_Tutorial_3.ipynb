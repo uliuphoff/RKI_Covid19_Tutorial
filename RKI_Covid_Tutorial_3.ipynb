{
 "cells": [
  {
   "cell_type": "code",
   "execution_count": null,
   "metadata": {},
   "outputs": [],
   "source": [
    "# Neben numpy und pandas importieren wir nun auch geopandas, eine mächtige Bibliothek zur \n",
    "# Visualisierung von Geodaten.\n",
    "\n",
    "import pandas as pd\n",
    "import numpy as np\n",
    "import geopandas as gpd\n",
    "\n",
    "# Zur generellen graphischen Darstellung von Daten benötigen wir die Bibliothek matplotlib\n",
    "\n",
    "import matplotlib.pyplot as plt"
   ]
  },
  {
   "cell_type": "code",
   "execution_count": null,
   "metadata": {},
   "outputs": [],
   "source": [
    "# Wir laden nun unsere Shape-Datei \"RKI_Corona_Landkreise.shp\", die wir uns gerade vom RKI besorgt haben.\n",
    "# Das Laden der daten funktioniert ähnlich wie mit der Funktion pd.read_csv, nur dass wir hier nicht \n",
    "# eine csv-Datei einladen, sondern ein spezielles Format, \n",
    "# welches geodaten enthält. Offiziell gesprochen handelt es sich hier um eine sog. Shape-Datei die wir uns \n",
    "# gleich noch etwas genauer ansehen wollen. \n",
    "\n",
    "kreise_path = 'RKI_Corona_Landkreise/RKI_Corona_Landkreise.shp'\n",
    "\n",
    "\n",
    "# Da unsere Shape-Datei neben normalen daten auch Geodaten enthält, nutzen wir nun auch \n",
    "# unser Geodatenmodul von Python, das Modul Geopandas. Wir hatten dieses Modul ja mit der \n",
    "# Abkürzung gpd geladen und verwenden jetzt die funktion read_file() dieses Moduls\n",
    "\n",
    "kreise = gpd.read_file(kreise_path)"
   ]
  },
  {
   "cell_type": "code",
   "execution_count": null,
   "metadata": {},
   "outputs": [],
   "source": [
    "# Wie sieht nun dieser Geodataframe aus?\n",
    "# Prinzipiell nicht anders als ein normaler Datenframe, den wir schon aus Tutorial 1 kennen.\n",
    "# Es handelt sich wieder um eine Tabelle mit mehreren Einträgen, d.h. \n",
    "# ein Datensatz pro Zeile und mehreren Spalten pro Zeile.\n",
    "# Die Funktion head() gibt uns wieder einen Überblick und zeigt uns die ersten fünf Zeilen\n",
    "\n",
    "kreise.head()\n",
    "\n",
    "# Wi erkennen hier diverse Daten in den vorhandenen Spalten. \n",
    "# Auffällig ist die letzte Spalte! Sie enthält Geometriedaten. \n",
    "# Jeder Eintrag in dieser Spalte beginnt dabei mit einem Codewort und darauf folgend die eigentlichen Koordinaten.\n",
    "# Schauen wir uns den ersten eintrag an: Ein Polygon ist ja ein Vieleck und die \n",
    "# folgenden Koordinaten beschreiben die Ecken des Polygons.\n",
    "# Generell gesagt sind im Shape Datenformat auch Punkte oder Linien möglich, aber darauf wollen wir hier\n",
    "# in diesem Beispiel nicht näher eingehen.\n"
   ]
  },
  {
   "cell_type": "code",
   "execution_count": null,
   "metadata": {},
   "outputs": [],
   "source": [
    "# Ja, so viele Daten in so vielen Spalten. Holen wir uns nun kur noch die Information, \n",
    "# was für Daten sich in den Spalten verstecken:\n",
    "# Dazu wird wieder die Funktion info() verwendet\n",
    "\n",
    "kreise.info()\n",
    "\n",
    "# Wir sehen, wir haben hier 411 Einträge, das ist genau die Zahl der Städte und Kreise\n",
    "# in Deutschland. Jede Zeile enthält also die daten einer Stadt bzw. eines Kreisbezirks.\n",
    "\n",
    "# Hier gibt es eine Vielzahl von Informationen, für uns wichtig sind. Neben der Geometrie in\n",
    "# Spalte 47 gibt es noch die Spalte 'county', die den Landkreisnahmen enthält und die Spalte 'BL',\n",
    "# die das Bundesland des jeweiligen Landkreises enthält.\n",
    "\n",
    "# Die Spalten mit cases und deathe enthalten die tagesaktuellen Datenwerte für Infektionen und Todesfälle"
   ]
  },
  {
   "cell_type": "code",
   "execution_count": null,
   "metadata": {},
   "outputs": [],
   "source": [
    "# Jetzt wollen wir aber endlich die Daten sichtbar machen.\n",
    "# Wir bereiten nun ein Diagramm vor, in dem wir uns ein \n",
    "# gedachtes Zeichenblatt einer bestimmten Größe bereitlegen.\n",
    "# Dies geschieht mit dem Matplotlib-Befehl figure, dem wir die \n",
    "# Größe und Auflösung als Parameter mitgeben. Die Größe wird standardmäßig\n",
    "# als Breite und Höhe in inch angegeben. Zusätlich geben wir die Auflösung\n",
    "# in Dots per inch an. Hier wählen wir den Wert 100.\n",
    "\n",
    "fig = plt.figure(figsize=(6,8),dpi=100)\n",
    "\n",
    "# Unser Bildschirm setzt Pixel und Dots 1:1 um, so erhalten wir so ein\n",
    "# Diagramm mit der Auflösung von 600x800\n",
    "\n",
    "# Nun müssen wir noch bekanntgeben, wie viele Diagramme auf unser Blatt Papier\n",
    "# kommen sollen. Das sind die sogenannten subplots.\n",
    "# man könnte zum Beispiel 6 Plots auf das Blatt Paier zeichnen lassen\n",
    "# angeordnet in drei Zeilen und zwei Spalten.\n",
    "\n",
    "# Das wolen wir aber nicht, wir wollen heute nur einen einzigen Subplot auf unser Blatt bringen\n",
    "# und der soll sich über das das gesamte Zeichenblatt erstrecken.\n",
    "\n",
    "\n",
    "ax=fig.add_subplot(1,1,1)\n",
    "\n",
    "# Die drei parameter bei der Funktion add_subplot() bedeuten dabei:\n",
    "#    1) über wieviel Zeilen geht der Plot\n",
    "#    2) Über wieviel Spalten geht der Plot\n",
    "#    3) Nummer des Subplots\n",
    "\n",
    "# Den Subplot speichern wir in der Variable ax, damit wir mit diesem Subplot später besser arbeiten können"
   ]
  },
  {
   "cell_type": "code",
   "execution_count": null,
   "metadata": {},
   "outputs": [],
   "source": [
    "# Wir haben hier nun unserer leeres Diagramm auf dem leeren gedachten Blatt Papier.\n",
    "# und nun kommt wieder diese wunderbare Eleganz von Python und seinen Modulen ins Spiel.\n",
    "# Mit einem einzigen Befehl - dem Befehl plot - plotten wir nun einen kompletten GeoDatensatz \n",
    "# aus unserem Geodatenframe:\n",
    "\n",
    "fig = plt.figure(figsize=(6,8),dpi=100)\n",
    "ax=fig.add_subplot(1,1,1)\n",
    "kreise.plot(ax=ax)\n",
    "\n",
    "# Der Parameter ax=ax sagt nur in welchen subplot geplottet werden soll"
   ]
  },
  {
   "cell_type": "code",
   "execution_count": null,
   "metadata": {},
   "outputs": [],
   "source": [
    "# Hier sehen wir also jetzt die Geodaten in graphischer Darstellung.\n",
    "# Das ist Deutschland, aufgeteilt in seine Kreise und Städte\n",
    "# Wir wollen nun aber jede Stadt und jeden Landkreis mit seiner Inzidenz einfärben.\n",
    "\n",
    "# Was brauchen wir dazu? \n",
    "# Wir brauchen für jeden Kreis den Inzidenzwert.\n",
    "# Der ist zum Glück auch schon in unserem Geodatenframe vorhanden\n",
    "# Nämlich in Spalte 45, mit dem Namen cases7_p_1 \n",
    "# Hinter dieser abkürzung verbirgt sich die 7 Tage Inzidenz bezogen auf 100.000 Einwohner.\n",
    "\n",
    "# Schauen wir uns die werte doch einmal genauer an. \n",
    "# Wir greifen uns dazu mit der locate Funktion .loc\n",
    "# nur die Spalten county und cases7_p_1 aus unserem Geodatenfram heraus:\n",
    "\n",
    "kreise.loc[:,['county', 'cases7_p_1']]"
   ]
  },
  {
   "cell_type": "code",
   "execution_count": null,
   "metadata": {},
   "outputs": [],
   "source": [
    "# Sehr schön, jeder krei und jede Inzidenz.\n",
    "# Aber die Zahlen enthalten ein Komma statt einem Dezimalpunkt,\n",
    "# Die Werte sind hier nicht als reine Zahlen, sondern als sog. Strings, also \n",
    "# als Buchstabenketten gespeichert.\n",
    "# Um damit arbeiten zu können müssen wir erst einmal ein wenig Kosmetik betreiben.\n",
    "# Wir ersetzen die Kommas durch Dezimalpunkte.\n",
    "# Dazu verwenden wir die in Pytho eingebaute Stringbibliothek str und \n",
    "# deren Replace Funktion .replace()\n",
    "# Wir ersetzen in allen Werten der Spalte die Kommas durch einen Punkt\n",
    "\n",
    "kreise.cases7_p_1.str.replace(',','.')"
   ]
  },
  {
   "cell_type": "code",
   "execution_count": null,
   "metadata": {},
   "outputs": [],
   "source": [
    "# Auch das sieht gut aus, jedoch ist das Ergebnis immer noch keine reine Floating Point Zahl sondern \n",
    "# immer noch ein String. das erkennen wir an dem Datentyp, dem dtype in der letzten zeile unseres Outputs.\n",
    "\n",
    "# Wir wiederholen also die Operation und sagen, dass unser Ergebnis aus dem letzten Schritt in \n",
    "# einen float Wert umgewandelt werden soll.\n",
    "# Das geht mit der Konvertierungsfunktion .astype(), der wir als Anweisung den Zieltyp float mitgeben\n",
    "\n",
    "kreise.cases7_p_1.str.replace(',','.').astype(float)"
   ]
  },
  {
   "cell_type": "code",
   "execution_count": null,
   "metadata": {},
   "outputs": [],
   "source": [
    "# Damit können wir nun rechnen, die gesamte Spalte enthält werte vom typ float und hat \n",
    "# damit auch Deziamlpunkte und Nachkommastellen.\n",
    "# Das Ergebnis unserer Konvertierung ist aber noch nirgendwo gespeichert.\n",
    "# Wir fügen es nun zu unserem Geodatenframe als neue, eigene Spalte hinzu. \n",
    "# Diese Spalte nennen wir INZ für Inzidenz.\n",
    "# Also: Neue Spalte INZ gleich Ergebnis unserer Konvertierung\n",
    "\n",
    "kreise['INZ']=kreise.cases7_p_1.str.replace(',','.').astype(float)"
   ]
  },
  {
   "cell_type": "code",
   "execution_count": null,
   "metadata": {},
   "outputs": [],
   "source": [
    "# Jetzt sind wir bereit für die Einfärbung unserer Landkarte.\n",
    "# Wir kopieren unsere plot-Befehle von oben, \n",
    "# fügen aber nun einen Paramter hinzu, der bestimmt, welche Spaltenwerte zum\n",
    "# Einfärben genutzt werden sollen.\n",
    "# Hierzu nehmen wir unsere neue Inzidenzspalte mit dem Namen INZ\n",
    "\n",
    "fig = plt.figure(figsize=(6,8),dpi=100)\n",
    "ax=fig.add_subplot(1,1,1)\n",
    "ax1=kreise.plot(ax=ax, column='INZ', legend=True)\n",
    "\n",
    "\n",
    "# Damit das Ganze auch sauber gekennzeichnet wird\n",
    "# fügen wir dem diagramm noch einen Titel hinzu:\n",
    "# Das funktioniert mit dem Befehl set_title.\n",
    "# Und dieser Befehl zum Drucken des Titels, \n",
    "# der wird angewendet auf unser Diagramm mit dem namen ax:\n",
    "\n",
    "ax2=ax.set_title('Inzidenz Deutschland am 30.12.2021')"
   ]
  },
  {
   "cell_type": "code",
   "execution_count": null,
   "metadata": {},
   "outputs": [],
   "source": [
    "# Perfekt, das sieht doch so aus, wie wir das haben wollten.\n",
    "# Angemerkt sei, dass das nur die Inzidnz eines Tages ist, namlich des tages unserer Beispieldatei!\n",
    "\n",
    "# Für die, die noch nicht müde sind von den ganzen Daten wollen wir nch eine kleine\n",
    "# Kür dranhängen.\n",
    "# Ich hatte ja gesagt, dass auch der jeweilige Bundeslandname in dem Geodatenframe zu finden ist\n",
    "# Wir kännen unseren Geodatenframe also filtern. Zum Beispiel nach dem bundesland bayern.\n",
    "# Wir definieren einen Filter, der alle Zeilen herausfiltert, in dem das Bundesland Bayern ist:\n",
    "\n",
    "filter=(kreise['BL']=='Bayern')"
   ]
  },
  {
   "cell_type": "code",
   "execution_count": null,
   "metadata": {},
   "outputs": [],
   "source": [
    "# Was steckt nun als Ergebnis in der variable Filter?\n",
    "# Schauen wir uns das mal an, indem wir filter aufrufen:\n",
    "\n",
    "filter[200:300]"
   ]
  },
  {
   "cell_type": "code",
   "execution_count": null,
   "metadata": {},
   "outputs": [],
   "source": [
    "# Das Ergebnis ist eine lange Liste von Wahr oder Falsch-Werten, die besagt, ob in einer zele das bundesland Bayern ist.\n",
    "# Wir sehen hier in der übersicht, die ersten fünf und letzten Fünf Zeilen gehören nicht zu Bayern.\n",
    "\n",
    "# Die Bayerischen landkriese kommen erst später. Zeigen wir mal die Zilen 200 bis 299 an:\n",
    "\n",
    "filter[200:300]\n"
   ]
  },
  {
   "cell_type": "code",
   "execution_count": null,
   "metadata": {},
   "outputs": [],
   "source": [
    "# mit den Falsch Werten können wir nun Zeilen wegfiltern: Das heißt:\n",
    "\n",
    "# Wenden wir diesen Filter auf unseren Geodatenfram an, so erhalten wir als Ergebnis\n",
    "# eine reduzierte Fabelle mit nur den bayerischen Statäten und Landkreisen.\n",
    "# Die ersten 5 zeilen lassen wir uns wieder mit der Head Funktion anzeigen:\n",
    "\n",
    "\n",
    "kreise.loc[filter].head()"
   ]
  },
  {
   "cell_type": "code",
   "execution_count": null,
   "metadata": {},
   "outputs": [],
   "source": [
    "# Das Ergebnis speichern wir in einem neuen Geodatenfram ab, den wir kreise_bayern nennen:\n",
    "\n",
    "kreise_bayern=kreise.loc[filter]"
   ]
  },
  {
   "cell_type": "code",
   "execution_count": null,
   "metadata": {},
   "outputs": [],
   "source": [
    "# Und nun wiederholen wir das Plotten noch einmal für die bayerischen Gemeinden:\n",
    "\n",
    "fig = plt.figure(figsize=(6,8),dpi=100)\n",
    "ax=fig.add_subplot(1,1,1)\n",
    "ax1=kreise_bayern.plot(ax=ax, column='INZ', legend=True)\n",
    "ax2=ax.set_title('Inzidenz Bayern am 30.12.2021')"
   ]
  },
  {
   "cell_type": "code",
   "execution_count": null,
   "metadata": {},
   "outputs": [],
   "source": []
  }
 ],
 "metadata": {
  "kernelspec": {
   "display_name": "Python 3",
   "language": "python",
   "name": "python3"
  },
  "language_info": {
   "codemirror_mode": {
    "name": "ipython",
    "version": 3
   },
   "file_extension": ".py",
   "mimetype": "text/x-python",
   "name": "python",
   "nbconvert_exporter": "python",
   "pygments_lexer": "ipython3",
   "version": "3.9.1"
  }
 },
 "nbformat": 4,
 "nbformat_minor": 4
}
