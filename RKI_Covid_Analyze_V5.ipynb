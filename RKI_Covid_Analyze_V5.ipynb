{
 "cells": [
  {
   "cell_type": "code",
   "execution_count": null,
   "metadata": {},
   "outputs": [],
   "source": [
    "from datetime import datetime, date, timedelta\n",
    "from dateutil.parser import parse\n",
    "import math\n",
    "import sys\n",
    "import time\n",
    "\n",
    "import pandas as pd\n",
    "import numpy as np\n",
    "import geopandas as gpd\n",
    "\n",
    "import matplotlib\n",
    "import matplotlib.pyplot as plt\n",
    "import mapclassify as mc\n",
    "\n",
    "from pathlib import Path\n",
    "import requests"
   ]
  },
  {
   "cell_type": "code",
   "execution_count": null,
   "metadata": {},
   "outputs": [],
   "source": [
    "CM = 1/2.54\n",
    "DEBUG = True"
   ]
  },
  {
   "cell_type": "code",
   "execution_count": null,
   "metadata": {},
   "outputs": [],
   "source": [
    "today = datetime.today().strftime('%y%m%d')\n",
    "covid_url = 'https://www.arcgis.com/sharing/rest/content/items/f10774f1c63e40168479a1feb6c7ca74/data'\n",
    "covid_file = today + \"_RKI_COVID19.csv\""
   ]
  },
  {
   "cell_type": "code",
   "execution_count": null,
   "metadata": {},
   "outputs": [],
   "source": [
    "covid_path=Path(covid_file)\n",
    "if not covid_path.is_file():\n",
    "    print('Getting new Covid Data for ', today)\n",
    "    r = requests.get(covid_url, allow_redirects=True)\n",
    "    filesize = open(covid_path, 'wb').write(r.content)\n",
    "    print('Done!')"
   ]
  },
  {
   "cell_type": "code",
   "execution_count": null,
   "metadata": {},
   "outputs": [],
   "source": [
    "#Load the covid database and Einwohnerzahlen via pd.read_csv\n",
    "\n",
    "#covid_path       = \"211220_RKI_COVID19.csv\"\n",
    "\n",
    "landesdaten_path = \"211217_RKI_Corona_Landkreise.csv\"\n",
    "\n",
    "covid = pd.read_csv(covid_file, parse_dates=['Meldedatum'])\n",
    "ewz = pd.read_csv(landesdaten_path)"
   ]
  },
  {
   "cell_type": "code",
   "execution_count": null,
   "metadata": {},
   "outputs": [],
   "source": [
    "# Geopandas datafiles, Bundesland und Kreise\n",
    "\n",
    "bland_path = 'vg2500_geo84/vg2500_bld.shp'\n",
    "bland = gpd.read_file(bland_path)\n",
    "\n",
    "kreise_path = 'vg2500_geo84/vg2500_krs.shp' \n",
    "kreise = gpd.read_file(kreise_path)\n",
    "\n",
    "#correct Göttingen\n",
    "\n",
    "kreise.RS.replace({'03152': '03159'},inplace=True)\n",
    "kreise.RS.replace({'03156': '03159'},inplace=True)"
   ]
  },
  {
   "cell_type": "code",
   "execution_count": null,
   "metadata": {},
   "outputs": [],
   "source": [
    "#Einwohnerzahlen Bundesländer und Landkreise\n",
    "\n",
    "bl=ewz.groupby('BL').EWZ_BL.max()\n",
    "lk=ewz.groupby('county').EWZ.max()\n",
    "\n",
    "summe_ew_deutschland = bl.sum()\n",
    "\n",
    "if DEBUG:\n",
    "    print('Einwohner Deutschland:', summe_ew_deutschland)"
   ]
  },
  {
   "cell_type": "code",
   "execution_count": null,
   "metadata": {},
   "outputs": [],
   "source": [
    "#Tabelle der Einwohnerzahlen von Landkreisen, Bundesländern und Deutschland gesamt\n",
    "\n",
    "einwohner=pd.concat([lk,bl])\n",
    "einwohner.loc['Deutschland']=summe_ew_deutschland"
   ]
  },
  {
   "cell_type": "code",
   "execution_count": null,
   "metadata": {},
   "outputs": [],
   "source": [
    "start=covid['Meldedatum'].min()\n",
    "ende=covid['Meldedatum'].max()\n",
    "\n",
    "landkreise=covid['Landkreis'].unique()\n",
    "bundeslaender=covid['Bundesland'].unique()\n",
    "\n",
    "if DEBUG:\n",
    "    print('Start Erfassung:', start.strftime('%d.%m.%Y')) \n",
    "    print('Ende  Erfassung:', ende.strftime('%d.%m.%Y'))\n",
    "    print('Anzahl Bundesländer:', len(bundeslaender))\n",
    "    print('Anzahl Landkreise:', len(landkreise))"
   ]
  },
  {
   "cell_type": "code",
   "execution_count": null,
   "metadata": {},
   "outputs": [],
   "source": [
    "#covid.Altersgruppe.unique()"
   ]
  },
  {
   "cell_type": "code",
   "execution_count": null,
   "metadata": {},
   "outputs": [],
   "source": [
    "#Filter by age\n",
    "#covid=covid[covid.Altersgruppe=='A15-A34']"
   ]
  },
  {
   "cell_type": "code",
   "execution_count": null,
   "metadata": {},
   "outputs": [],
   "source": [
    "# Main grouping steps for Landkreise, Bundesländer und Deutschland gesamt\n",
    "\n",
    "Faelle_lk = covid.groupby(['Landkreis', 'Meldedatum']).AnzahlFall.sum()\n",
    "\n",
    "Faelle_bl = covid.groupby(['Bundesland', 'Meldedatum']).AnzahlFall.sum()\n",
    "\n",
    "Faelle_d = covid.groupby('Meldedatum').AnzahlFall.sum()"
   ]
  },
  {
   "cell_type": "code",
   "execution_count": null,
   "metadata": {},
   "outputs": [],
   "source": [
    "tagesliste = pd.date_range(start,ende)\n",
    "result=pd.DataFrame(index=tagesliste)\n",
    "\n",
    "lk_auswahl=landkreise\n",
    "for i in lk_auswahl:\n",
    "    tmp=Faelle_lk[i]\n",
    "    result = pd.concat([result, tmp.rename(i)], axis=1)\n",
    "\n",
    "bl_auswahl=bundeslaender\n",
    "for i in bl_auswahl:\n",
    "    tmp=Faelle_bl[i]\n",
    "    result = pd.concat([result, tmp.rename(i)], axis=1)\n",
    "    \n",
    "result = pd.concat([result,Faelle_d.rename('Deutschland')], axis=1)\n",
    "\n",
    "\n",
    "\n",
    "#Rollierende 7 Tage Mittelwerte und Summationen    \n",
    "    \n",
    "result.fillna(value=0, inplace=True)\n",
    "result_m7 = result.rolling(7).mean()\n",
    "result_s7 = result.rolling(7).sum()\n",
    "\n",
    "# Inzidenz berechnen:\n",
    "\n",
    "for i in result_s7.columns:\n",
    "    result_s7[i] = result_s7[i]*100000/ float(einwohner.loc[i])\n",
    "    \n",
    "\n",
    "if DEBUG:\n",
    "    overview=['Deutschland', 'Bayern', 'SK München', 'SK Duisburg']\n",
    "    for i in overview:\n",
    "        print('Inzidenz ',i, '\\t\\t', f'{result_s7.iloc[-1][i]:.1f}')"
   ]
  },
  {
   "cell_type": "code",
   "execution_count": null,
   "metadata": {},
   "outputs": [],
   "source": [
    "fig = plt.figure(figsize=[15.,25.])\n",
    "\n",
    "#First figure:\n",
    "\n",
    "cx=fig.add_subplot(4,1,1)\n",
    "\n",
    "cx.grid()\n",
    "a=cx.set_title('Neuinfektionen',fontsize=16)\n",
    "b=cx.set_xlabel('Datum', fontsize=12)\n",
    "c=cx.set_ylabel('Inzidenz', fontsize=12)\n",
    "\n",
    "\n",
    "cx.plot(result_s7['Deutschland'], label='Deutschland', linewidth=3)\n",
    "\n",
    "overview=['Bayern', 'SK München', 'SK Duisburg']\n",
    "for i in overview:\n",
    "    cx.plot(result_s7[i], label=i)\n",
    "\n",
    "\n",
    "e=cx.set_xlim([datetime(2020,8,1),datetime(2021,12,31)])\n",
    "f=cx.set_yscale('log')\n",
    "\n",
    "g=cx.set_ylim([1,1000])\n",
    "#ax.set_yticks([1, 10, 100, 1000])\n",
    "cx.get_yaxis().set_major_formatter(matplotlib.ticker.ScalarFormatter())\n",
    "h=cx.legend(loc='best', fontsize=12)"
   ]
  },
  {
   "cell_type": "code",
   "execution_count": null,
   "metadata": {},
   "outputs": [],
   "source": [
    "# County Bezeichnungen zum gpd File dazumergen\n",
    "\n",
    "tmpkreise = kreise.copy()\n",
    "tmpkreise.RS = tmpkreise.RS.astype(int)\n",
    "tmpewz = ewz.loc[:,['RS','county']]\n",
    "#tmpkreise = tmpkreise.merge(tmpewz, on='RS')\n",
    "tmpkreise = pd.merge(tmpkreise,tmpewz, on='RS', how='right')\n",
    "\n",
    "# Was soll dargestellt werden:\n",
    "\n",
    "a=pd.DataFrame(result_s7.iloc[-1])\n",
    "b=pd.DataFrame((result_s7.iloc[-1] - result_s7.iloc[-8])/result_s7.iloc[-8]*100)\n",
    "\n",
    "\n",
    "a.rename(columns={ a.columns[0]: \"INZ\" }, inplace = True)\n",
    "a.reset_index(inplace=True)\n",
    "a.rename(columns={'index': 'county'},inplace=True)\n",
    "\n",
    "b.rename(columns={ b.columns[0]: \"DINZ\" }, inplace = True)\n",
    "b.reset_index(inplace=True)\n",
    "b.rename(columns={'index': 'county'},inplace=True)\n",
    "\n",
    "\n",
    "#Rechenergebnis zum Plotfile hinzumergen\n",
    "\n",
    "tmpkreise=pd.merge(tmpkreise, a, on='county', how='left')\n",
    "tmpkreise=pd.merge(tmpkreise, b, on='county', how='left')\n",
    "\n",
    "#Berlin Korrektur\n",
    "berlin_ges=kreise[kreise['RS']=='11000']\n",
    "tmpkreise=tmpkreise.append(berlin_ges)\n",
    "tmpkreise.loc[tmpkreise['RS']=='11000','county']='Berlin'\n",
    "tmpkreise.loc[tmpkreise['RS']=='11000','INZ']=float(a.loc[a.county=='Berlin'].INZ)\n",
    "tmpkreise.loc[tmpkreise['RS']=='11000','DINZ']=float(b.loc[a.county=='Berlin'].DINZ)"
   ]
  },
  {
   "cell_type": "code",
   "execution_count": null,
   "metadata": {},
   "outputs": [],
   "source": [
    "#Mainplot mit Bundeslandgrenzen\n",
    "\n",
    "cm=1/2.54\n",
    "fig = plt.figure(figsize=(60*cm, 38*cm))\n",
    "ax=fig.add_subplot(1, 2, 1)\n",
    "\n",
    "#ax = tmpkreise.plot(figsize=(15,15), edgecolor='grey', column='INZ', cmap='tab10', scheme='MaximumBreaks', legend=True)\n",
    "#ax = tmpkreise.plot(figsize=(15,15), edgecolor='grey', column='INZ', cmap='tab10', scheme='Quantiles', legend=True)\n",
    "\n",
    "\n",
    "bins1 =[5, 20, 35, 50, 100, 200, 300, 1000, 2500]\n",
    "px1 = tmpkreise.plot(ax=ax, edgecolor='grey', column='INZ', cmap='GnBu', \n",
    "                    scheme='UserDefined', classification_kwds={'bins': bins1},\n",
    "                    legend=True)\n",
    "\n",
    "px2=bland.plot(ax=ax, edgecolor='white', color='none')\n",
    "\n",
    "\n",
    "txt=\"Inzidenzkarte Deutschland \"\n",
    "end_str=ende.strftime('%d.%m.%Y')\n",
    "txt += (\"am \" + end_str + ':\\n')\n",
    "cx=ax.text(5.5,55.1, txt,fontsize=16)\n",
    "\n",
    "txt=\"(7 Tage pro 100.000 Einwohner)\"\n",
    "dx=ax.text(5.5,55.05,txt)\n",
    "\n",
    "copyright2 = \"Datenquellenvermerk: Robert Koch-Institut (RKI), dl-de/by-2-0\"\n",
    "ex=ax.text(5.5,47,copyright2)\n",
    "\n",
    "\n",
    "\n",
    "\n",
    "\n",
    "bx=fig.add_subplot(1, 2, 2)\n",
    "#dbins =[-100, -50, 0, 50, 100, 200]\n",
    "dbins =[0, 50, 100, 200]\n",
    "px3 = tmpkreise.plot(ax=bx, edgecolor='grey', column='DINZ', cmap='tab10', \n",
    "                    scheme='UserDefined', classification_kwds={'bins': dbins},\n",
    "                    legend=True)\n",
    "\n",
    "px4=bland.plot(ax=bx, edgecolor='white', color='none')\n",
    "\n",
    "txt=\"Inzidenzänderung zur Vorwoche in Prozent \"\n",
    "end_str=ende.strftime('%d.%m.%Y')\n",
    "txt += (\", \" + end_str + ':\\n')\n",
    "cx=bx.text(5.5,55.1, txt,fontsize=16)\n",
    "\n",
    "\n",
    "copyright2 = \"Datenquellenvermerk: Robert Koch-Institut (RKI), dl-de/by-2-0\"\n",
    "ex=bx.text(5.5,47,copyright2)\n",
    "\n",
    "\n",
    "pre_str=ende.strftime('%Y%m%d')\n",
    "diagram_file=pre_str+\"_Inzidenzkarte_Deutschland\"\n",
    "plt.savefig(diagram_file, dpi=300)"
   ]
  },
  {
   "cell_type": "code",
   "execution_count": null,
   "metadata": {},
   "outputs": [],
   "source": [
    "#One Diagram\n",
    "\n",
    "fig = plt.figure(figsize=(38*CM, 60*CM))\n",
    "\n",
    "bx=fig.add_subplot(1, 1, 1)\n",
    "#dbins =[-100, -50, 0, 50, 100, 200]\n",
    "dbins =[0, 50, 100, 200]\n",
    "px3 = tmpkreise.plot(ax=bx, edgecolor='grey', column='DINZ', cmap='tab10', \n",
    "                    scheme='UserDefined', classification_kwds={'bins': dbins},\n",
    "                    legend=True)\n",
    "\n",
    "px4=bland.plot(ax=bx, edgecolor='white', color='none')\n",
    "\n",
    "txt=\"Inzidenzänderung zur Vorwoche in Prozent \"\n",
    "end_str=ende.strftime('%d.%m.%Y')\n",
    "txt += (\", \" + end_str + ':\\n')\n",
    "cx=bx.text(5.5,55.1, txt,fontsize=16)\n",
    "\n",
    "\n",
    "copyright2 = \"Datenquellenvermerk: Robert Koch-Institut (RKI), dl-de/by-2-0\"\n",
    "ex=bx.text(5.5,47,copyright2)\n",
    "\n",
    "\n",
    "pre_str=ende.strftime('%Y%m%d')\n",
    "diagram_file=pre_str+\"_Delta-Inzidenzkarte_Deutschland\"\n",
    "plt.savefig(diagram_file, dpi=300)"
   ]
  },
  {
   "cell_type": "code",
   "execution_count": null,
   "metadata": {},
   "outputs": [],
   "source": [
    "# Top Änderungen\n",
    "\n",
    "deltas=tmpkreise[['county','DINZ']].set_index('county').DINZ\n",
    "deltas.drop_duplicates(inplace=True)\n",
    "deltas.drop('Berlin',inplace=True)\n",
    "\n",
    "#Statistics\n",
    "m=deltas.mean()\n",
    "neg=len(deltas[deltas<0])\n",
    "pos=len(deltas[deltas>=0])\n",
    "\n",
    "Summary = 'Landkreise fallend: ' + str(neg) + '\\nLandkreise steigend: '+ str(pos) + '\\nMittlere Änderung ' + '{:.2f}'.format(m) + '%'\n",
    "\n",
    "#Histogramm\n",
    "\n",
    "#hp=deltas.hist(bins=41)\n",
    "hp=deltas.hist()\n",
    "\n",
    "y=hp.set_ylabel('Antzahl Land-/Stadtkreise')\n",
    "y=hp.set_xlabel('Prozentuale Änderung der 7 Tage Inzidenz/100T EW ggü. Vorwoche')\n",
    "\n",
    "y=hp.set_title('Anzahl Landkreise über Inzidenzändeung in %')\n",
    "txt='Stand '+ ende.strftime('%d.%m.%Y')\n",
    "y=hp.text(25,12,txt)\n",
    "y=hp.text(-60,-40,copyright2)\n",
    "\n",
    "y=hp.text(10,110, Summary)\n",
    "\n",
    "histplotfile=ende.strftime('%y%m%d')+' Histogramm'\n",
    "plt.savefig(histplotfile)"
   ]
  },
  {
   "cell_type": "code",
   "execution_count": null,
   "metadata": {},
   "outputs": [],
   "source": [
    "### Debug ###"
   ]
  },
  {
   "cell_type": "code",
   "execution_count": null,
   "metadata": {},
   "outputs": [],
   "source": [
    "ewz[ewz['county'].str.contains('Würz')]"
   ]
  },
  {
   "cell_type": "code",
   "execution_count": null,
   "metadata": {},
   "outputs": [],
   "source": []
  }
 ],
 "metadata": {
  "kernelspec": {
   "display_name": "Python 3",
   "language": "python",
   "name": "python3"
  },
  "language_info": {
   "codemirror_mode": {
    "name": "ipython",
    "version": 3
   },
   "file_extension": ".py",
   "mimetype": "text/x-python",
   "name": "python",
   "nbconvert_exporter": "python",
   "pygments_lexer": "ipython3",
   "version": "3.9.1"
  }
 },
 "nbformat": 4,
 "nbformat_minor": 4
}
